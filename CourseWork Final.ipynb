{
 "cells": [
  {
   "cell_type": "code",
   "execution_count": 1,
   "metadata": {
    "collapsed": true
   },
   "outputs": [],
   "source": [
    "import pandas as pd\n",
    "import numpy as np\n",
    "import matplotlib.pyplot as plt\n",
    "from sklearn.preprocessing import LabelEncoder\n",
    "from sklearn.model_selection import train_test_split\n",
    "import matplotlib.pyplot as plt\n",
    "import matplotlib\n",
    "import seaborn as sns"
   ]
  },
  {
   "cell_type": "code",
   "execution_count": 2,
   "metadata": {
    "collapsed": true
   },
   "outputs": [],
   "source": [
    "# Getting the data set\n",
    "df = pd.read_csv('healthcare-dataset-stroke-data.csv')"
   ]
  },
  {
   "cell_type": "code",
   "execution_count": 3,
   "metadata": {
    "scrolled": true
   },
   "outputs": [
    {
     "name": "stdout",
     "output_type": "stream",
     "text": [
      "<class 'pandas.core.frame.DataFrame'>\n",
      "RangeIndex: 5110 entries, 0 to 5109\n",
      "Data columns (total 11 columns):\n",
      "gender               5110 non-null object\n",
      "age                  5110 non-null float64\n",
      "hypertension         5110 non-null int64\n",
      "heart_disease        5110 non-null int64\n",
      "ever_married         5110 non-null object\n",
      "work_type            5110 non-null object\n",
      "Residence_type       5110 non-null object\n",
      "avg_glucose_level    5110 non-null float64\n",
      "bmi                  5110 non-null float64\n",
      "smoking_status       5110 non-null object\n",
      "stroke               5110 non-null object\n",
      "dtypes: float64(3), int64(2), object(6)\n",
      "memory usage: 439.2+ KB\n"
     ]
    }
   ],
   "source": [
    "#handling missing value\n",
    "#dropping column:'id'\n",
    "mean=df['bmi'].mean()\n",
    "df['bmi'].fillna(mean,inplace=True)\n",
    "df['stroke']=df['stroke'].replace(1,'yes')\n",
    "df['stroke']=df['stroke'].replace(0,'no')\n",
    "df.isnull().sum()\n",
    "del df['id']\n",
    "df.info()\n"
   ]
  },
  {
   "cell_type": "code",
   "execution_count": 4,
   "metadata": {},
   "outputs": [
    {
     "name": "stdout",
     "output_type": "stream",
     "text": [
      "Missing values:  0\n"
     ]
    }
   ],
   "source": [
    "# Checking for missing values in the data set\n",
    "print('Missing values: ',sum(df.isnull().sum()))\n",
    "# 201 missing values is not very important since the entire data set has more than 4000 rows"
   ]
  },
  {
   "cell_type": "code",
   "execution_count": 5,
   "metadata": {},
   "outputs": [
    {
     "data": {
      "image/png": "[encoded data removed]",
      "text/plain": [
       "<matplotlib.figure.Figure at 0x22e7c5454e0>"
      ]
     },
     "metadata": {},
     "output_type": "display_data"
    }
   ],
   "source": [
    "#correlation\n",
    "sns.heatmap(df.corr(),annot=True,cmap=\"inferno\")\n",
    "plt.show()\n",
    "#tolerance: 0.7, more than that, drop a column"
   ]
  },
  {
   "cell_type": "code",
   "execution_count": 6,
   "metadata": {},
   "outputs": [
    {
     "data": {
      "text/html": [
       "<div>\n",
       "<style>\n",
       "    .dataframe thead tr:only-child th {\n",
       "        text-align: right;\n",
       "    }\n",
       "\n",
       "    .dataframe thead th {\n",
       "        text-align: left;\n",
       "    }\n",
       "\n",
       "    .dataframe tbody tr th {\n",
       "        vertical-align: top;\n",
       "    }\n",
       "</style>\n",
       "<table border=\"1\" class=\"dataframe\">\n",
       "  <thead>\n",
       "    <tr style=\"text-align: right;\">\n",
       "      <th></th>\n",
       "      <th>gender</th>\n",
       "      <th>age</th>\n",
       "      <th>hypertension</th>\n",
       "      <th>heart_disease</th>\n",
       "      <th>ever_married</th>\n",
       "      <th>work_type</th>\n",
       "      <th>Residence_type</th>\n",
       "      <th>avg_glucose_level</th>\n",
       "      <th>bmi</th>\n",
       "      <th>smoking_status</th>\n",
       "      <th>stroke</th>\n",
       "    </tr>\n",
       "  </thead>\n",
       "  <tbody>\n",
       "    <tr>\n",
       "      <th>0</th>\n",
       "      <td>Male</td>\n",
       "      <td>67.0</td>\n",
       "      <td>0</td>\n",
       "      <td>1</td>\n",
       "      <td>Yes</td>\n",
       "      <td>Private</td>\n",
       "      <td>Urban</td>\n",
       "      <td>228.69</td>\n",
       "      <td>36.600000</td>\n",
       "      <td>formerly smoked</td>\n",
       "      <td>yes</td>\n",
       "    </tr>\n",
       "    <tr>\n",
       "      <th>1</th>\n",
       "      <td>Female</td>\n",
       "      <td>61.0</td>\n",
       "      <td>0</td>\n",
       "      <td>0</td>\n",
       "      <td>Yes</td>\n",
       "      <td>Self-employed</td>\n",
       "      <td>Rural</td>\n",
       "      <td>202.21</td>\n",
       "      <td>28.893237</td>\n",
       "      <td>never smoked</td>\n",
       "      <td>yes</td>\n",
       "    </tr>\n",
       "    <tr>\n",
       "      <th>2</th>\n",
       "      <td>Male</td>\n",
       "      <td>80.0</td>\n",
       "      <td>0</td>\n",
       "      <td>1</td>\n",
       "      <td>Yes</td>\n",
       "      <td>Private</td>\n",
       "      <td>Rural</td>\n",
       "      <td>105.92</td>\n",
       "      <td>32.500000</td>\n",
       "      <td>never smoked</td>\n",
       "      <td>yes</td>\n",
       "    </tr>\n",
       "    <tr>\n",
       "      <th>3</th>\n",
       "      <td>Female</td>\n",
       "      <td>49.0</td>\n",
       "      <td>0</td>\n",
       "      <td>0</td>\n",
       "      <td>Yes</td>\n",
       "      <td>Private</td>\n",
       "      <td>Urban</td>\n",
       "      <td>171.23</td>\n",
       "      <td>34.400000</td>\n",
       "      <td>smokes</td>\n",
       "      <td>yes</td>\n",
       "    </tr>\n",
       "    <tr>\n",
       "      <th>4</th>\n",
       "      <td>Female</td>\n",
       "      <td>79.0</td>\n",
       "      <td>1</td>\n",
       "      <td>0</td>\n",
       "      <td>Yes</td>\n",
       "      <td>Self-employed</td>\n",
       "      <td>Rural</td>\n",
       "      <td>174.12</td>\n",
       "      <td>24.000000</td>\n",
       "      <td>never smoked</td>\n",
       "      <td>yes</td>\n",
       "    </tr>\n",
       "  </tbody>\n",
       "</table>\n",
       "</div>"
      ],
      "text/plain": [
       "   gender   age  hypertension  heart_disease ever_married      work_type  \\\n",
       "0    Male  67.0             0              1          Yes        Private   \n",
       "1  Female  61.0             0              0          Yes  Self-employed   \n",
       "2    Male  80.0             0              1          Yes        Private   \n",
       "3  Female  49.0             0              0          Yes        Private   \n",
       "4  Female  79.0             1              0          Yes  Self-employed   \n",
       "\n",
       "  Residence_type  avg_glucose_level        bmi   smoking_status stroke  \n",
       "0          Urban             228.69  36.600000  formerly smoked    yes  \n",
       "1          Rural             202.21  28.893237     never smoked    yes  \n",
       "2          Rural             105.92  32.500000     never smoked    yes  \n",
       "3          Urban             171.23  34.400000           smokes    yes  \n",
       "4          Rural             174.12  24.000000     never smoked    yes  "
      ]
     },
     "execution_count": 6,
     "metadata": {},
     "output_type": "execute_result"
    }
   ],
   "source": [
    "df.head()"
   ]
  },
  {
   "cell_type": "code",
   "execution_count": 7,
   "metadata": {},
   "outputs": [
    {
     "data": {
      "image/png": "[encoded data removed]",
      "text/plain": [
       "<matplotlib.figure.Figure at 0x22e7c65c438>"
      ]
     },
     "metadata": {},
     "output_type": "display_data"
    }
   ],
   "source": [
    "#count: gender\n",
    "plt.figure(figsize=(12,6))\n",
    "sns.countplot('gender',data=df)\n",
    "plt.show()"
   ]
  },
  {
   "cell_type": "code",
   "execution_count": 8,
   "metadata": {},
   "outputs": [
    {
     "data": {
      "image/png": "[encoded data removed]",
      "text/plain": [
       "<matplotlib.figure.Figure at 0x22e7cb0c7b8>"
      ]
     },
     "metadata": {},
     "output_type": "display_data"
    }
   ],
   "source": [
    "#count: marital status\n",
    "plt.figure(figsize=(12,6))\n",
    "sns.countplot('ever_married',data=df)\n",
    "plt.show()"
   ]
  },
  {
   "cell_type": "code",
   "execution_count": 9,
   "metadata": {},
   "outputs": [
    {
     "data": {
      "image/png": "[encoded data removed]",
      "text/plain": [
       "<matplotlib.figure.Figure at 0x22e7c9eb4a8>"
      ]
     },
     "metadata": {},
     "output_type": "display_data"
    }
   ],
   "source": [
    "#count: work type\n",
    "plt.figure(figsize=(12,6))\n",
    "sns.countplot('work_type',data=df)\n",
    "plt.show()"
   ]
  },
  {
   "cell_type": "code",
   "execution_count": 10,
   "metadata": {},
   "outputs": [
    {
     "data": {
      "image/png": "[encoded data removed]",
      "text/plain": [
       "<matplotlib.figure.Figure at 0x22e7ca78828>"
      ]
     },
     "metadata": {},
     "output_type": "display_data"
    }
   ],
   "source": [
    "#count: residence type\n",
    "plt.figure(figsize=(12,6))\n",
    "sns.countplot('Residence_type',data=df)\n",
    "plt.show()"
   ]
  },
  {
   "cell_type": "code",
   "execution_count": 11,
   "metadata": {},
   "outputs": [
    {
     "data": {
      "image/png": "[encoded data removed]",
      "text/plain": [
       "<matplotlib.figure.Figure at 0x22e7cafa860>"
      ]
     },
     "metadata": {},
     "output_type": "display_data"
    }
   ],
   "source": [
    "#count: smoking status\n",
    "plt.figure(figsize=(12,6))\n",
    "sns.countplot('smoking_status',data=df)\n",
    "plt.show()"
   ]
  },
  {
   "cell_type": "code",
   "execution_count": 12,
   "metadata": {},
   "outputs": [
    {
     "data": {
      "image/png": "[encoded data removed]",
      "text/plain": [
       "<matplotlib.figure.Figure at 0x22e7caf3cc0>"
      ]
     },
     "metadata": {},
     "output_type": "display_data"
    }
   ],
   "source": [
    "#stroke and smoking status relationship\n",
    "plt.figure(figsize=(12,6))\n",
    "sns.countplot('smoking_status',data=df,hue='stroke')\n",
    "plt.legend(loc='best')\n",
    "plt.show()"
   ]
  },
  {
   "cell_type": "code",
   "execution_count": 13,
   "metadata": {},
   "outputs": [
    {
     "data": {
      "image/png": "[encoded data removed]",
      "text/plain": [
       "<matplotlib.figure.Figure at 0x22e7c8d04e0>"
      ]
     },
     "metadata": {},
     "output_type": "display_data"
    }
   ],
   "source": [
    "#stroke to gender relationship\n",
    "plt.figure(figsize=(12,6))\n",
    "sns.countplot('gender',data=df,hue='stroke')\n",
    "plt.legend(loc='best')\n",
    "plt.show()\n"
   ]
  },
  {
   "cell_type": "code",
   "execution_count": 14,
   "metadata": {
    "scrolled": false
   },
   "outputs": [
    {
     "data": {
      "image/png": "[encoded data removed]",
      "text/plain": [
       "<matplotlib.figure.Figure at 0x22e7c7edef0>"
      ]
     },
     "metadata": {},
     "output_type": "display_data"
    }
   ],
   "source": [
    "#stroke to work_type relationship\n",
    "plt.figure(figsize=(12,6))\n",
    "sns.countplot('work_type',data=df,hue='stroke')\n",
    "plt.legend(loc='best')\n",
    "plt.show()"
   ]
  },
  {
   "cell_type": "code",
   "execution_count": 15,
   "metadata": {
    "collapsed": true
   },
   "outputs": [],
   "source": [
    "# Transforming Yes/No collumns into 1s and 0s instead\n",
    "encode = LabelEncoder()\n",
    "df['ever_married']=encode.fit_transform(df['ever_married'])\n",
    "df['Residence_type']=encode.fit_transform(df['Residence_type'])\n",
    "df['gender']=encode.fit_transform(df['gender'])\n",
    "work_type = pd.get_dummies(df[\"work_type\"], drop_first=True)\n",
    "df = pd.concat([df,work_type],axis=1)\n",
    "df.drop(['work_type'], axis=1,inplace=True)\n"
   ]
  },
  {
   "cell_type": "code",
   "execution_count": 16,
   "metadata": {},
   "outputs": [
    {
     "data": {
      "text/html": [
       "<div>\n",
       "<style>\n",
       "    .dataframe thead tr:only-child th {\n",
       "        text-align: right;\n",
       "    }\n",
       "\n",
       "    .dataframe thead th {\n",
       "        text-align: left;\n",
       "    }\n",
       "\n",
       "    .dataframe tbody tr th {\n",
       "        vertical-align: top;\n",
       "    }\n",
       "</style>\n",
       "<table border=\"1\" class=\"dataframe\">\n",
       "  <thead>\n",
       "    <tr style=\"text-align: right;\">\n",
       "      <th></th>\n",
       "      <th>formerly smoked</th>\n",
       "      <th>never smoked</th>\n",
       "      <th>smokes</th>\n",
       "    </tr>\n",
       "  </thead>\n",
       "  <tbody>\n",
       "    <tr>\n",
       "      <th>0</th>\n",
       "      <td>1</td>\n",
       "      <td>0</td>\n",
       "      <td>0</td>\n",
       "    </tr>\n",
       "    <tr>\n",
       "      <th>1</th>\n",
       "      <td>0</td>\n",
       "      <td>1</td>\n",
       "      <td>0</td>\n",
       "    </tr>\n",
       "    <tr>\n",
       "      <th>2</th>\n",
       "      <td>0</td>\n",
       "      <td>1</td>\n",
       "      <td>0</td>\n",
       "    </tr>\n",
       "    <tr>\n",
       "      <th>3</th>\n",
       "      <td>0</td>\n",
       "      <td>0</td>\n",
       "      <td>1</td>\n",
       "    </tr>\n",
       "    <tr>\n",
       "      <th>4</th>\n",
       "      <td>0</td>\n",
       "      <td>1</td>\n",
       "      <td>0</td>\n",
       "    </tr>\n",
       "  </tbody>\n",
       "</table>\n",
       "</div>"
      ],
      "text/plain": [
       "   formerly smoked  never smoked  smokes\n",
       "0                1             0       0\n",
       "1                0             1       0\n",
       "2                0             1       0\n",
       "3                0             0       1\n",
       "4                0             1       0"
      ]
     },
     "execution_count": 16,
     "metadata": {},
     "output_type": "execute_result"
    }
   ],
   "source": [
    "smoking_status = pd.get_dummies(df[\"smoking_status\"], drop_first=True)\n",
    "smoking_status.head()"
   ]
  },
  {
   "cell_type": "code",
   "execution_count": 17,
   "metadata": {
    "collapsed": true
   },
   "outputs": [],
   "source": [
    "df = pd.concat([df,smoking_status],axis=1)\n",
    "df.drop(['smoking_status'], axis=1,inplace=True)\n",
    "df['stroke']=df['stroke'].replace('yes',1)\n",
    "df['stroke']=df['stroke'].replace('no',0)\n",
    "df = df.rename(columns={'formerly smoked': 'formely_smoked', 'never smoked': 'never_smoked'})"
   ]
  },
  {
   "cell_type": "code",
   "execution_count": 18,
   "metadata": {
    "collapsed": true,
    "scrolled": true
   },
   "outputs": [],
   "source": [
    "# Setting the X and Y variables\n",
    "x = df[['gender','age','hypertension','heart_disease','ever_married','Residence_type','avg_glucose_level','bmi','formely_smoked','never_smoked','smokes','Never_worked','Private','Self-employed','children']].values\n",
    "y = df['stroke'].values"
   ]
  },
  {
   "cell_type": "code",
   "execution_count": 19,
   "metadata": {
    "collapsed": true
   },
   "outputs": [],
   "source": [
    "# Getting the X_train, X_test, Y_train and y_test variables for the modeling\n",
    "x_train, x_test, y_train, y_test = train_test_split(x,y,test_size=0.3,random_state=0)"
   ]
  },
  {
   "cell_type": "code",
   "execution_count": 20,
   "metadata": {
    "collapsed": true
   },
   "outputs": [],
   "source": [
    "#Importing all models that I will be listing\n",
    "from sklearn.tree import DecisionTreeClassifier\n",
    "from sklearn.tree import ExtraTreeClassifier\n",
    "from sklearn.linear_model import LogisticRegression\n",
    "from sklearn.neural_network import MLPClassifier\n",
    "from sklearn.neural_network import MLPRegressor\n",
    "from sklearn.ensemble import RandomForestClassifier\n",
    "from sklearn.neighbors import KNeighborsClassifier\n",
    "from sklearn.naive_bayes import GaussianNB\n",
    "from sklearn.naive_bayes import BernoulliNB\n",
    "from sklearn.naive_bayes import MultinomialNB\n"
   ]
  },
  {
   "cell_type": "code",
   "execution_count": 27,
   "metadata": {
    "collapsed": true
   },
   "outputs": [],
   "source": [
    "#modeling Decision Tree\n",
    "model_DecisionTree=DecisionTreeClassifier(max_depth=int(5),\n",
    "                             random_state=11)\n",
    "# modeling Extra Tree Classifier\n",
    "model_ExtraTree= ExtraTreeClassifier(criterion='log_loss',random_state=123)\n",
    "#modeling MLPClassifier\n",
    "model_MLPC= MLPClassifier(max_iter=600, random_state=123)\n",
    "# modeling Logistic Regression\n",
    "model_LogisticRegression = LogisticRegression()\n",
    "# modeling K-Nearst Neighbors \n",
    "model_KNN = KNeighborsClassifier(n_neighbors=4, algorithm='brute', metric='minkowski', p=2)\n",
    "# GaussianNB(Naive Bayes)\n",
    "model_GaussianNB = GaussianNB()\n",
    "# BernoulliNB(Naive Bayes)\n",
    "model_BernoulliNB= BernoulliNB(binarize=0.0)\n",
    "# MultinominalNB(Naive Bayes)\n",
    "model_MultinominalNB= MultinomialNB()\n",
    "# modeling Random forest Classifier\n",
    "model_RandomForest = RandomForestClassifier(max_depth=2, random_state=0)"
   ]
  },
  {
   "cell_type": "code",
   "execution_count": 28,
   "metadata": {
    "collapsed": true
   },
   "outputs": [],
   "source": [
    "model_DecisionTree.fit(x_train,y_train)\n",
    "model_MLPC.fit(x_train,y_train)\n",
    "model_LogisticRegression.fit(x_train, y_train)\n",
    "model_KNN.fit(x_train, y_train)\n",
    "model_GaussianNB.fit(x_train,y_train)\n",
    "model_BernoulliNB.fit(x_train,y_train)\n",
    "model_MultinominalNB.fit(x_train,y_train)\n",
    "model_RandomForest.fit(x_train,y_train)\n",
    "    \n",
    "#predict\n",
    "pred_test_DT = model_DecisionTree.predict(x_test)\n",
    "pred_test_MLPC = model_MLPC.predict(x_test)\n",
    "pred_test_LR = model_LogisticRegression.predict(x_test)\n",
    "pred_test_KNN = model_KNN.predict(x_test)\n",
    "pred_test_GuassianNB = model_GaussianNB.predict(x_test)\n",
    "pred_test_BernoulliNB = model_BernoulliNB.predict(x_test)\n",
    "pred_test_MultinominalNB = model_MultinominalNB.predict(x_test)\n",
    "pred_test_RandomForest = model_RandomForest.predict(x_test)\n"
   ]
  },
  {
   "cell_type": "code",
   "execution_count": 29,
   "metadata": {
    "scrolled": true
   },
   "outputs": [
    {
     "name": "stdout",
     "output_type": "stream",
     "text": [
      "             precision    recall  f1-score   support\n",
      "\n",
      "          0       0.95      1.00      0.97      1457\n",
      "          1       0.00      0.00      0.00        76\n",
      "\n",
      "avg / total       0.90      0.95      0.92      1533\n",
      "\n",
      "             precision    recall  f1-score   support\n",
      "\n",
      "          0       0.95      1.00      0.97      1457\n",
      "          1       0.25      0.03      0.05        76\n",
      "\n",
      "avg / total       0.92      0.95      0.93      1533\n",
      "\n",
      "             precision    recall  f1-score   support\n",
      "\n",
      "          0       0.95      1.00      0.97      1457\n",
      "          1       0.00      0.00      0.00        76\n",
      "\n",
      "avg / total       0.90      0.95      0.93      1533\n",
      "\n",
      "             precision    recall  f1-score   support\n",
      "\n",
      "          0       0.95      1.00      0.97      1457\n",
      "          1       0.00      0.00      0.00        76\n",
      "\n",
      "avg / total       0.90      0.95      0.92      1533\n",
      "\n",
      "             precision    recall  f1-score   support\n",
      "\n",
      "          0       0.99      0.36      0.53      1457\n",
      "          1       0.07      0.96      0.13        76\n",
      "\n",
      "avg / total       0.95      0.39      0.51      1533\n",
      "\n",
      "             precision    recall  f1-score   support\n",
      "\n",
      "          0       0.95      0.99      0.97      1457\n",
      "          1       0.20      0.03      0.05        76\n",
      "\n",
      "avg / total       0.91      0.95      0.93      1533\n",
      "\n",
      "             precision    recall  f1-score   support\n",
      "\n",
      "          0       0.96      0.82      0.89      1457\n",
      "          1       0.11      0.41      0.17        76\n",
      "\n",
      "avg / total       0.92      0.80      0.85      1533\n",
      "\n",
      "             precision    recall  f1-score   support\n",
      "\n",
      "          0       0.95      1.00      0.97      1457\n",
      "          1       0.00      0.00      0.00        76\n",
      "\n",
      "avg / total       0.90      0.95      0.93      1533\n",
      "\n"
     ]
    },
    {
     "name": "stderr",
     "output_type": "stream",
     "text": [
      "C:\\Anaconda3\\lib\\site-packages\\sklearn\\metrics\\classification.py:1113: UndefinedMetricWarning: Precision and F-score are ill-defined and being set to 0.0 in labels with no predicted samples.\n",
      "  'precision', 'predicted', average, warn_for)\n"
     ]
    }
   ],
   "source": [
    "# Classification Report for each model small overview of the diferences\n",
    "from sklearn.metrics import classification_report\n",
    "print(classification_report(y_test,pred_test_DT))\n",
    "print(classification_report(y_test,pred_test_MLPC))\n",
    "print(classification_report(y_test,pred_test_LR))\n",
    "print(classification_report(y_test,pred_test_KNN))\n",
    "print(classification_report(y_test,pred_test_GuassianNB))\n",
    "print(classification_report(y_test,pred_test_BernoulliNB))\n",
    "print(classification_report(y_test,pred_test_MultinominalNB))\n",
    "print(classification_report(y_test,pred_test_RandomForest))"
   ]
  },
  {
   "cell_type": "code",
   "execution_count": 30,
   "metadata": {
    "collapsed": true
   },
   "outputs": [],
   "source": [
    "# Getting all the training and test scores\n",
    "train_score_DecisionTree= model_DecisionTree.score(x_train,y_train)\n",
    "test_score_DecisionTree =model_DecisionTree.score(x_test,y_test)\n",
    "train_score_MLPC= model_MLPC.score(x_train,y_train)\n",
    "test_score_MLPC= model_MLPC.score(x_test,y_test)\n",
    "train_score_LR= model_LogisticRegression.score(x_train, y_train)\n",
    "test_score_LR= model_LogisticRegression.score(x_test,y_test)\n",
    "train_score_KNN= model_KNN.score(x_train, y_train)\n",
    "test_score_KNN= model_KNN.score(x_test,y_test)\n",
    "train_score_GuassianNB= model_GaussianNB.score(x_train, y_train)\n",
    "test_score_GuassianNB= model_GaussianNB.score(x_test,y_test)\n",
    "train_score_BernoulliNB= model_BernoulliNB.score(x_train, y_train)\n",
    "test_score_BernoulliNB= model_BernoulliNB.score(x_test,y_test)\n",
    "train_score_MultinominalNB= model_MultinominalNB.score(x_train, y_train)\n",
    "test_score_MultinominalNB= model_MultinominalNB.score(x_test,y_test)\n",
    "train_score_RandomForest= model_RandomForest.score(x_train, y_train)\n",
    "test_score_RandomForest= model_RandomForest.score(x_test,y_test)\n"
   ]
  },
  {
   "cell_type": "code",
   "execution_count": 31,
   "metadata": {},
   "outputs": [
    {
     "name": "stdout",
     "output_type": "stream",
     "text": [
      "Decision tree scores:\n",
      "training prediction accuracy: 95.443%\n",
      "test prediction accuracy: 94.716%\n",
      "MLP scores:\n",
      "training prediction accuracy: 94.828%\n",
      "test prediction accuracy: 94.781\n",
      "LR scores:\n",
      "training prediction accuracy: 95.192%\n",
      "test prediction accuracy: 94.977%\n",
      "KNN scores:\n",
      "training prediction accuracy: 95.303%\n",
      "test prediction accuracy: 94.651%\n",
      "GuassianNB scores:\n",
      "training prediction accuracy: 39.195%\n",
      "test prediction accuracy: 38.943%\n",
      "BernoulliNB scores:\n",
      "training prediction accuracy: 94.800%\n",
      "test prediction accuracy: 94.651%\n",
      "MultinominalNB scores:\n",
      "training prediction accuracy: 80.151%\n",
      "test prediction accuracy: 80.365%\n",
      "Random Forest scores:\n",
      "training prediction accuracy: 95.164%\n",
      "test prediction accuracy: 95.042%\n"
     ]
    }
   ],
   "source": [
    "# Test and Train accuracies:\n",
    "print(\"Decision tree scores:\")\n",
    "print(\"training prediction accuracy: {:.3f}%\".format(train_score_DecisionTree * 100))\n",
    "print(\"test prediction accuracy: {:.3f}%\".format(test_score_DecisionTree * 100))\n",
    "print(\"MLP scores:\")\n",
    "print(\"training prediction accuracy: {:.3f}%\".format(train_score_MLPC * 100))\n",
    "print(\"test prediction accuracy: {:.3f}\".format(test_score_MLPC* 100))\n",
    "print(\"LR scores:\")\n",
    "print(\"training prediction accuracy: {:.3f}%\".format(train_score_LR* 100))\n",
    "print(\"test prediction accuracy: {:.3f}%\".format(test_score_LR* 100))\n",
    "print(\"KNN scores:\")\n",
    "print(\"training prediction accuracy: {:.3f}%\".format(train_score_KNN* 100))\n",
    "print(\"test prediction accuracy: {:.3f}%\".format(test_score_KNN* 100))\n",
    "print(\"GuassianNB scores:\")\n",
    "print(\"training prediction accuracy: {:.3f}%\".format(train_score_GuassianNB* 100))\n",
    "print(\"test prediction accuracy: {:.3f}%\".format(test_score_GuassianNB* 100))\n",
    "print(\"BernoulliNB scores:\")\n",
    "print(\"training prediction accuracy: {:.3f}%\".format(train_score_BernoulliNB* 100))\n",
    "print(\"test prediction accuracy: {:.3f}%\".format(test_score_BernoulliNB* 100))\n",
    "print(\"MultinominalNB scores:\")\n",
    "print(\"training prediction accuracy: {:.3f}%\".format(train_score_MultinominalNB* 100))\n",
    "print(\"test prediction accuracy: {:.3f}%\".format(test_score_MultinominalNB* 100))\n",
    "print(\"Random Forest scores:\")\n",
    "print(\"training prediction accuracy: {:.3f}%\".format(train_score_RandomForest* 100))\n",
    "print(\"test prediction accuracy: {:.3f}%\".format(test_score_RandomForest* 100))"
   ]
  },
  {
   "cell_type": "code",
   "execution_count": 32,
   "metadata": {},
   "outputs": [
    {
     "data": {
      "text/html": [
       "<div>\n",
       "<style>\n",
       "    .dataframe thead tr:only-child th {\n",
       "        text-align: right;\n",
       "    }\n",
       "\n",
       "    .dataframe thead th {\n",
       "        text-align: left;\n",
       "    }\n",
       "\n",
       "    .dataframe tbody tr th {\n",
       "        vertical-align: top;\n",
       "    }\n",
       "</style>\n",
       "<table border=\"1\" class=\"dataframe\">\n",
       "  <thead>\n",
       "    <tr style=\"text-align: right;\">\n",
       "      <th></th>\n",
       "      <th>Test_Scores</th>\n",
       "      <th>Training_Scores</th>\n",
       "      <th>average_score</th>\n",
       "    </tr>\n",
       "    <tr>\n",
       "      <th>Machine_Learning_Algorithms</th>\n",
       "      <th></th>\n",
       "      <th></th>\n",
       "      <th></th>\n",
       "    </tr>\n",
       "  </thead>\n",
       "  <tbody>\n",
       "    <tr>\n",
       "      <th>Random Forest Classifier</th>\n",
       "      <td>0.950424</td>\n",
       "      <td>0.951635</td>\n",
       "      <td>0.951030</td>\n",
       "    </tr>\n",
       "    <tr>\n",
       "      <th>Logistic Regression</th>\n",
       "      <td>0.949772</td>\n",
       "      <td>0.951915</td>\n",
       "      <td>0.950843</td>\n",
       "    </tr>\n",
       "    <tr>\n",
       "      <th>DecisionTree</th>\n",
       "      <td>0.947162</td>\n",
       "      <td>0.954431</td>\n",
       "      <td>0.950797</td>\n",
       "    </tr>\n",
       "    <tr>\n",
       "      <th>K-Neighors Network</th>\n",
       "      <td>0.946510</td>\n",
       "      <td>0.953033</td>\n",
       "      <td>0.949772</td>\n",
       "    </tr>\n",
       "    <tr>\n",
       "      <th>MLP Classifier</th>\n",
       "      <td>0.947815</td>\n",
       "      <td>0.948281</td>\n",
       "      <td>0.948048</td>\n",
       "    </tr>\n",
       "    <tr>\n",
       "      <th>Bernoulli Naive Bayes</th>\n",
       "      <td>0.946510</td>\n",
       "      <td>0.948001</td>\n",
       "      <td>0.947256</td>\n",
       "    </tr>\n",
       "    <tr>\n",
       "      <th>Multinominal Naive Bayes</th>\n",
       "      <td>0.803653</td>\n",
       "      <td>0.801510</td>\n",
       "      <td>0.802581</td>\n",
       "    </tr>\n",
       "    <tr>\n",
       "      <th>Gaussian Naive Bayes</th>\n",
       "      <td>0.389432</td>\n",
       "      <td>0.391949</td>\n",
       "      <td>0.390691</td>\n",
       "    </tr>\n",
       "  </tbody>\n",
       "</table>\n",
       "</div>"
      ],
      "text/plain": [
       "                             Test_Scores  Training_Scores  average_score\n",
       "Machine_Learning_Algorithms                                             \n",
       "Random Forest Classifier        0.950424         0.951635       0.951030\n",
       "Logistic Regression             0.949772         0.951915       0.950843\n",
       "DecisionTree                    0.947162         0.954431       0.950797\n",
       "K-Neighors Network              0.946510         0.953033       0.949772\n",
       "MLP Classifier                  0.947815         0.948281       0.948048\n",
       "Bernoulli Naive Bayes           0.946510         0.948001       0.947256\n",
       "Multinominal Naive Bayes        0.803653         0.801510       0.802581\n",
       "Gaussian Naive Bayes            0.389432         0.391949       0.390691"
      ]
     },
     "execution_count": 32,
     "metadata": {},
     "output_type": "execute_result"
    }
   ],
   "source": [
    "# Inder to better compare all of the models I created the following dataframe\n",
    "models_data= {'Machine_Learning_Algorithms':[\"DecisionTree\",\"MLP Classifier\",\"Logistic Regression\",\"K-Neighors Network\",\n",
    "                           \"Gaussian Naive Bayes\",\"Bernoulli Naive Bayes\",\"Multinominal Naive Bayes\",\"Random Forest Classifier\"],\n",
    "             'Training_Scores':[train_score_DecisionTree,\n",
    "                               train_score_MLPC,\n",
    "                               train_score_LR,\n",
    "                               train_score_KNN,\n",
    "                               train_score_GuassianNB,\n",
    "                               train_score_BernoulliNB,\n",
    "                               train_score_MultinominalNB,\n",
    "                               train_score_RandomForest],\n",
    "             'Test_Scores':[test_score_DecisionTree\n",
    "                           ,test_score_MLPC\n",
    "                           ,test_score_LR\n",
    "                           ,test_score_KNN\n",
    "                           ,test_score_GuassianNB\n",
    "                           ,test_score_BernoulliNB\n",
    "                           ,test_score_MultinominalNB\n",
    "                           ,test_score_RandomForest]}\n",
    "\n",
    "models_dataset = pd.DataFrame(models_data)\n",
    "models_dataset.set_index('Machine_Learning_Algorithms', inplace=True)\n",
    "models_dataset['average_score'] = models_dataset.mean(axis=1)\n",
    "models_dataset.sort_values(by=['average_score'], ascending=False)"
   ]
  }
 ],
 "metadata": {
  "kernelspec": {
   "display_name": "Python 3",
   "language": "python",
   "name": "python3"
  },
  "language_info": {
   "codemirror_mode": {
    "name": "ipython",
    "version": 3
   },
   "file_extension": ".py",
   "mimetype": "text/x-python",
   "name": "python",
   "nbconvert_exporter": "python",
   "pygments_lexer": "ipython3",
   "version": "3.6.1"
  }
 },
 "nbformat": 4,
 "nbformat_minor": 2
}
